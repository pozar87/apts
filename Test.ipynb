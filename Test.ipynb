{
 "cells": [
  {
   "cell_type": "code",
   "execution_count": 1,
   "metadata": {
    "scrolled": true
   },
   "outputs": [
    {
     "name": "stderr",
     "output_type": "stream",
     "text": [
      "2025-05-18 12:36:10,159 - apts - INFO - Logging level set to INFO\n",
      "2025-05-18 12:36:10,159 - apts - INFO - Seaborn style set to 'whitegrid'\n"
     ]
    }
   ],
   "source": [
    "import apts as ap\n",
    "import pandas as pd\n",
    "\n",
    "%matplotlib inline  "
   ]
  },
  {
   "cell_type": "code",
   "execution_count": 2,
   "metadata": {},
   "outputs": [
    {
     "data": {
      "image/png": "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.70_W_15.59_20171201000000_20171201000000_20171201000000_20171201000000_ZRH.nc']
```

In []:
#### (B) Test with one file

In []:
```python
# Load the first file from the list
ds = xr.open_dataset(f_list[0])

# Print the dataset structure
print(ds)

```

Out []:
```output
<xarray.Dataset>
Dimensions:    (time: 1, latitude: 1, longitude: 1)
Coordinates:
  * time       (time) datetime64[ns] 2017-12-01
  * latitude   (latitude) float64 33.7
  * longitude  (longitude) float64 -15.59
Data variables:
    u10        (time, latitude, longitude) float32 ...
Attributes:
    Conventions:  CF-1.6
    history:      2019-07-15 09:27:35 GMT by grib_to_netcdf-2.10.0: /opt/ecmw...
```

In []:
#### (C) Process all files in the list

In []:
```python
# Loop over all files in the list and print their contents
for f in f_list:
    ds = xr.open_dataset(f)
    print(ds)
    print("-----") # print a separator between each output

```

Out []:
OR_GLM-L2-LCFA_G16_s20172342228200_e20172342228400_c20172342228415.nc
-----
<xarray.Dataset>
Dimensions:                                    (number_of_events: 1, number_of_groups: 1, number_of_flashes: 1, number_of_time_bounds: 2, number_of_wavelength_bounds: 2)
Coordinates:
    event_id                               (number_of_events) int16 ...
    group_id                               (number_of_groups) int16 ...
    flash_id                               (number_of_flashes) int16 ...
  * number_of_time_bounds                (number_of_time_bounds) int8 0 1
  * number_of_wavelength_bounds          (number_of_wavelength_bounds) int8 0 1
Data variables: (12/45)
    event_time_offset                      (number_of_events) datetime64[ns] ...
    event_lat                              (number_of_events) float32 ...
    event_lon                              (number_of_events) float32 ...
    event_energy                           (number_of_events) float32 ...
    event_parent_group_id                  (number_of_events) int16 ...
    group_time_offset                      (number_of_groups) datetime64[ns] ...
    ...                                       ...
    percent_navigated_L1b_events           float32 ...
    yaw_flip_flag                          int8 ...
    processing_system_environment          |S1 ...
    production_site                        |S1 ...
    production_environment                 |S1 ...
    processing_system_version              |S1 ...
Attributes: (12/29)
    production_site:          LICC
    featureType:              point
    dataset_name:             OR_GLM-L2-LCFA_G16_s20172342228200_e20172342228...
    iso_series_metadata_id:   8c9e8170-3a54-11e8-b467-0800200c9a66
    title:                    GLM L2 Lightning Detection - Flashes, Groups, ...
    summary:                  The Lightning Detection product produces a hie...
    ...                       ...
    cdm_data_type:            Point
    time_coverage_start:      2017-08-22T22:28:20.0Z
    time_coverage_end:        2017-08-22T22:28:40.0Z
    timeline_id:              ABI Mode 3
    production_data_source:   Realtime
    id:                       6058e42e-83c1-433f-888e-3e48dcd83548
//EUMETSAT/DCS/MSG/VDF/2017/12/01/MSG3-SEVI-MSG15-0000-0000-20171201000000-000001995281-11528.nc
-----
<xarray.Dataset>
Dimensions:                       (y: 1, x: 1, time: 1)
Coordinates:
  * time                          (time) datetime64[ns] 2017-12-01
Dimensions without coordinates: y, x
Data variables:
    data                          (time, y, x) int16 ...
    lon                           (y, x) float32 ...
    lat                           (y, x) float32 ...
    spacecraft_latitude           (time) float32 ...
    spacecraft_longitude          (time) float32 ...
    spacecraft_altitude           (time) float32 ...
    satellite_azimuth_angle       (time, y, x) float32 ...
    satellite_zenith_angle        (time, y, x) float32 ...
    solar_azimuth_angle           (time, y, x) float32 ...
    solar_zenith_angle            (time, y, x) float32 ...
    obs_name                      (time) object ...
    obs_id                        (time) float64 ...
    obs_lat                       (time) float32 ...
    obs_lon                       (time) float32 ...
    obs_alt                       (time) float32 ...
    obs_time                      (time) datetime64[ns] ...
    obs_reference_time            (time) datetime64[ns] ...
    obs_station_id                (time) float64 ...
    obs_quality_flag              (time) float64 ...
    obs_type                      (time) float64 ...
    obs_cloud_type                (time) float64 ...
    obs_vis                       (time) float32 ...
    obs_ceil                      (time) float32 ...
    obs_pres_sea_level            (time) float32 ...
    obs_pres_station_level        (time) float32 ...
    obs_air_temp_2m               (time) float32 ...
    obs_dew_point_temp_2m         (time) float32 ...
    obs_wind_dir_10m              (time) float32 ...
    obs_wind_speed_10m            (time) float32 ...
    obs_precip_instant_1h_equiv   (time) float32 ...
    obs_precip_accum_1h_equiv     (time) float32 ...
    obs_precip_accum_3h_equiv     (time) float32 ...
    obs_precip_accum_6h_equiv     (time) float32 ...
    obs_precip_accum_12h_equiv    (time) float32 ...
    obs_precip_accum_24h_equiv    (time) float32 ...
    obs_snow_depth                (time) float32 ...
    obs_sea_surface_temp          (time) float32 ...
    obs_wave_height               (time) float32 ...
    obs_max_wind_speed_1h_10m     (time) float32 ...
    obs_max_wind_speed_3h_10m     (time) float32 ...
    obs_max_wind_speed_6h_10m     (time) float32 ...
    obs_max_wind_speed_12h_10m    (time) float32 ...
    obs_max_wind_speed_24h_10m    (time) float32 ...
    obs_min_air_temp_12h_2m       (time) float32 ...
    obs_max_air_temp_12h_2m       (time) float32 ...
    obs_min_air_temp_24h_2m       (time) float32 ...
    obs_max_air_temp_24h_2m       (time) float32 ...
    obs_pres_tend_3h              (time) float32 ...
    obs_pres_tend_char_3h         (time) float32 ...
    obs_cloud_amount              (time) float32 ...
    obs_low_cloud_amount          (time) float32 ...
    obs_low_cloud_base_height     (time) float32 ...
    obs_med_cloud_amount          (time) float32 ...
    obs_high_cloud_amount         (time) float32 ...
    obs_precip_duration_1h        (time) float32 ...
    obs_precip_duration_3h        (time) float32 ...
    obs_precip_duration_6h        (time) float32 ...
    obs_precip_duration_12h       (time) float32 ...
    obs_precip_duration_24h       (time) float32 ...
    obs_precip_type               (time) float32 ...
    obs_precip_past_weather_code  (time) float64 ...
    obs_wind_gust_10m             (time) float32 ...
    obs_wind_gust_duration_10m    (time) float32 ...
    obs_surface_pressure          (time) float32 ...
Attributes:
    Conventions:          CF-1.4
    source:               OSI SAF
    processing_level:     2
    title:                Multi-sensor analysis of surface winds
    institution:          KNMI
    project:              Ocean and Sea Ice SAF
    references:           OSI-102 Product User Manual
    history:              NetCDF created by pygac
    comment:
    area:
    start_date:           2017-12-01 00:00:00
    stop_date:            2017-12-01 00:00:00
    southernmost_latitude:33.7
    northernmost_latitude:33.7
    westernmost_longitude:-15.59
    easternmost_longitude:-15.59
    file_quality_index:   0
    data_format_version:  1.0
    dataset_version_id:   1.0
//EPE/EPI/Output/P_ZRH_R_C_WMO_20171201000000_00_ECMWF_SFC_WIND-U_10_N_33.70_W_15.59_20171201000000_20171201000000_20171201000000_20171201000000_ZRH.nc
-----
<xarray.Dataset>
Dimensions:    (time: 1, latitude: 1, longitude: 1)
Coordinates:
  * time       (time) datetime64[ns] 2017-12-01
  * latitude   (latitude) float64 33.7
  * longitude  (longitude) float64 -15.59
Data variables:
    u10        (time, latitude, longitude) float32 ...
Attributes:
    Conventions:  CF-1.6
    history:      2019-07-15 09:27:35 GMT by grib_to_netcdf-2.10.0: /opt/ecmw...
```

In []:
The above output displays the structure of each dataset, including its dimensions, coordinates, data variables, and attributes. This helps in understanding the content and organization of each NetCDF file.

In []:
```python
# You can also load multiple files into a single Xarray dataset
ds_all = xr.open_mfdataset(f_list)

# Print the dataset structure
print(ds_all)

```

Out []:
```output
<xarray.Dataset>
Dimensions:                          (event_time_offset: 1, group_time_offset: 1, flash_time_offset_of_first_event: 1, flash_time_offset_of_last_event: 1, number_of_time_bounds: 2, number_of_wavelength_bounds: 2, y: 1, x: 1, time: 1, latitude: 1, longitude: 1)
Coordinates:
    event_id                         (event_time_offset) int16 dask.array<chunksize=(1,), meta=np.ndarray>
    group_id                         (group_time_offset) int16 dask.array<chunksize=(1,), meta=np.ndarray>
    flash_id                         (flash_time_offset_of_first_event) int16 dask.array<chunksize=(1,), meta=np.ndarray>
  * number_of_time_bounds          (number_of_time_bounds) int8 0 1
  * number_of_wavelength_bounds    (number_of_wavelength_bounds) int8 0 1
  * time                           (time) datetime64[ns] 2017-12-01
  * latitude                       (latitude) float64 33.7
  * longitude                      (longitude) float64 -15.59
  * event_time_offset              (event_time_offset) datetime64[ns] 2017-08-22T22:28:20
  * group_time_offset              (group_time_offset) datetime64[ns] 2017-08-22T22:28:20
  * flash_time_offset_of_first_event (flash_time_offset_of_first_event) datetime64[ns] 2017-08-22T22:28:20
  * flash_time_offset_of_last_event (flash_time_offset_of_last_event) datetime64[ns] 2017-08-22T22:28:20
Dimensions without coordinates: y, x
Data variables: (12/53)
    event_lat                        (event_time_offset) float32 dask.array<chunksize=(1,), meta=np.ndarray>
    event_lon                        (event_time_offset) float32 dask.array<chunksize=(1,), meta=np.ndarray>
    event_energy                     (event_time_offset) float32 dask.array<chunksize=(1,), meta=np.ndarray>
    event_parent_group_id            (event_time_offset) int16 dask.array<chunksize=(1,), meta=np.ndarray>
    group_frame_time_offset          (group_time_offset) datetime64[ns] dask.array<chunksize=(1,), meta=np.ndarray>
    group_lat                        (group_time_offset) float32 dask.array<chunksize=(1,), meta=np.ndarray>
    ...                               ...
    obs_wind_gust_10m                (time, y, x) float32 dask.array<chunksize=(1, 1, 1), meta=np.ndarray>
    obs_wind_gust_duration_10m       (time, y, x) float32 dask.array<chunksize=(1, 1, 1), meta=np.ndarray>
    obs_surface_pressure             (time, y, x) float32 dask.array<chunksize=(1, 1, 1), meta=np.ndarray>
    u10                              (time, latitude, longitude) float32 dask.array<chunksize=(1, 1, 1), meta=np.ndarray>
    goes_imager_projection         int32 ...
    nominal_satellite_subpoint_lat   float64 ...
Attributes: (12/29)
    production_site:          LICC
    featureType:              point
    dataset_name:             OR_GLM-L2-LCFA_G16_s20172342228200_e20172342228...
    iso_series_metadata_id:   8c9e8170-3a54-11e8-b467-0800200c9a66
    title:                    GLM L2 Lightning Detection - Flashes, Groups, ...
    summary:                  The Lightning Detection product produces a hie...
    ...                       ...
    cdm_data_type:            Point
    time_coverage_start:      2017-08-22T22:28:20.0Z
    time_coverage_end:        2017-08-22T22:28:40.0Z
    timeline_id:              ABI Mode 3
    production_data_source:   Realtime
    id:                       6058e42e-83c1-433f-888e-3e48dcd83548
```

In []:
The `open_mfdataset()` function allows to open multiple files as a single dataset. This can be very useful, e.g. when you want to analyse time series of data where each file represents a single time step (see also the [xarray documentation on reading multiple files](https://xarray.pydata.org/en/stable/user-guide/io.html#reading-multiple-files)).

In []:
## 1.2. Write NetCDF files

[xarray.Dataset.to_netcdf](https://xarray.pydata.org/en/stable/generated/xarray.Dataset.to_netcdf.html) / [xarray.DataArray.to_netcdf](https://xarray.pydata.org/en/stable/generated/xarray.DataArray.to_netcdf.html) are the functions that allow you to write xarray data structures to NetCDF files.

Let's re-use the `ds` object from above and write it to a new NetCDF file.

In []:
```python
ds.to_netcdf("test_file.nc")

```

In []:
Let's check if the file has been created with `ls`:

In []:
```python
ls

```

Out []:
```output
OR_GLM-L2-LCFA_G16_s20172342228200_e20172342228400_c20172342228415.nc
P_ZRH_R_C_WMO_20171201000000_00_ECMWF_SFC_WIND-U_10_N_33.70_W_15.59_20171201000000_20171201000000_20171201000000_20171201000000_ZRH.nc
MSG3-SEVI-MSG15-0000-0000-20171201000000-000001995281-11528.nc
test_file.nc
```

In []:
The file `test_file.nc` has been created.

In []:
## 1.3. Working with Xarray data structures

Xarray has two fundamental data structures:
* `DataArray` which holds a single multi-dimensional variable and its coordinates
* `Dataset` which is a dict-like container of `DataArray` objects aligned along common dimensions

Both data structures are N-dimensional, which means that they can exist in any number of dimensions. As NetCDF files can be complex, it is important to understand the main aspects of Xarray data structures.

In []:
### 1.3.1. Xarray data structure (Dataset)

Let's load one of the test files again and inspect its structure.

In []:
```python
# Load a test file with xarray
ds = xr.open_dataset(f_list[2])

# Print the data structure
print(ds)

```

Out []:
```output
<xarray.Dataset>
Dimensions:    (time: 1, latitude: 1, longitude: 1)
Coordinates:
  * time       (time) datetime64[ns] 2017-12-01
  * latitude   (latitude) float64 33.7
  * longitude  (longitude) float64 -15.59
Data variables:
    u10        (time, latitude, longitude) float32 ...
Attributes:
    Conventions:  CF-1.6
    history:      2019-07-15 09:27:35 GMT by grib_to_netcdf-2.10.0: /opt/ecmw...
```

In []:
The **`print()`** statement shows the following information about the xarray dataset:
* **Dimensions**: The names of the dimensions and their respective lengths, e.g. `time: 1` means that the dimension `time` has length 1.
* **Coordinates**: The names of the coordinates and their values. Coordinates are one-dimensional DataArrays, whose names match the dimension name, e.g. `time (time)`. Coordinates with a `*` are dimension coordinates.
* **Data Variables**: The data variables contained in the dataset. Each variable has a name, a list of dimension names in parentheses and the data type, e.g. `u10 (time, latitude, longitude) float32`.
* **Attributes**: Global file attributes that describe the data, e.g. `Conventions`.

In []:
Let's inspect the individual components of the dataset.

In []:
```python
# Dimensions
print("Dimensions of the dataset: \n", ds.dims)

# Coordinates
print("\nCoordinates of the dataset: \n", ds.coords)

# Data variables
print("\nData variables of the dataset: \n", ds.data_vars)

# Attributes
print("\nAttributes of the dataset: \n", ds.attrs)

```

Out []:
```output
Dimensions of the dataset:
 Frozen({'time': 1, 'latitude': 1, 'longitude': 1})
Coordinates of the dataset:
 Coordinates:
  * time       (time) datetime64[ns] 2017-12-01
  * latitude   (latitude) float64 33.7
  * longitude  (longitude) float64 -15.59
Data variables of the dataset:
 Data variables:
    u10      (time, latitude, longitude) float32 ...
Attributes of the dataset:
 {'Conventions': 'CF-1.6', 'history': '2019-07-15 09:27:35 GMT by grib_to_netcdf-2.10.0: /opt/ecmwf-libraries/grib_api/1.27.0/bin/grib_to_netcdf -S param -o /cache/data8/adaptor.mars.internal-1563182826.9384587-22821-19-b2d70431-668e-4a1a-b1a7-cf3f72f3c74c.nc /cache/tmp/b2d70431-668e-4a1a-b1a7-cf3f72f3c74c-adaptor.mars.internal-1563182826.939105-22821-8-tmp.grib'}
```

In []:
### 1.3.2. Xarray data structure (DataArray)

In []:
A `DataArray` is xarray's implementation of a labeled, N-dimensional array. It has two essential parts:
* **`values`**: a `numpy.ndarray` holding the array’s values, and
* **`dims`**: dimension names for each axis (e.g., `('x', 'y', 'z')`)

It also can contain:
* **`coords`**: a dict-like container of arrays (coordinates) that label each point (e.g., 1-dimensional arrays of numbers, datetime objects or strings),
* **`name`**: a string that names the array, and
* **`attrs`**: an `OrderedDict` to hold arbitrary metadata (attributes).

In []:
Let's select the data variable `u10` from the dataset `ds`. It is a `DataArray` object.

In []:
```python
# Select data variable 'u10'
u10 = ds['u10']

# Print the data variable
print(u10)

```

Out []:
```output
<xarray.DataArray 'u10' (time: 1, latitude: 1, longitude: 1)>
[1 values with dtype=float32]
Coordinates:
  * time       (time) datetime64[ns] 2017-12-01
  * latitude   (latitude) float64 33.7
  * longitude  (longitude) float64 -15.59
Attributes:
    units:      m s**-1
    long_name:  10 metre U wind component
```

In []:
The **`print()`** statement shows the following information about the xarray DataArray:
* **Dimensions**: The names of the dimensions and their respective lengths, e.g. `time: 1` means that the dimension `time` has length 1.
* **Values**: The actual values of the DataArray. Here, it is a three-dimensional array with one value. The values are represented by `...` (ellipsis) and means that the values are not shown yet.
* **Coordinates**: The names of the coordinates and their values. Coordinates are one-dimensional DataArrays, whose names match the dimension name, e.g. `time (time)`. Coordinates with a `*` are dimension coordinates.
* **Attributes**: Attributes that describe the data variable, e.g. `units` or `long_name`.

Let's inspect the individual components of the DataArray.

In []:
```python
# Dimensions
print("Dimensions of the DataArray: \n", u10.dims)

# Coordinates
print("\nCoordinates of the DataArray: \n", u10.coords)

# Values
print("\nValues of the DataArray: \n", u10.values)

# Attributes
print("\nAttributes of the DataArray: \n", u10.attrs)

# Name
print("\nName of the DataArray: \n", u10.name)

```

Out []:
```output
Dimensions of the DataArray:
 ('time', 'latitude', 'longitude')
Coordinates of the DataArray:
 Coordinates:
  * time       (time) datetime64[ns] 2017-12-01
  * latitude   (latitude) float64 33.7
  * longitude  (longitude) float64 -15.59
Values of the DataArray:
 [[[-1.8349609]]]
Attributes of the DataArray:
 {'units': 'm s**-1', 'long_name': '10 metre U wind component'}
Name of the DataArray:
 u10
```

In []:
<hr/>

In []:
## 2. Inspect NetCDF files

Let's inspect the files in more detail. Xarray offers multiple functions to analyse the data, e.g. selection and indexing, computation or plotting.

In []:
### 2.1. Selection and indexing

Xarray offers multiple ways to select and index data variables and their coordinates. The main functions are:
* **`.sel()`**: Label-based indexing using coordinate values
* **`.isel()`**: Positional indexing using integer indices
* **`.loc[]`**: Label-based indexing similar to pandas, but for DataArrays
* **`.iloc[]`**: Positional indexing similar to pandas, but for DataArrays

Let's use the file `OR_GLM-L2-LCFA_G16_s20172342228200_e20172342228400_c20172342228415.nc` as an example.

In []:
```python
# Load the dataset
ds_glm = xr.open_dataset(f_list[0])

# Print the dataset structure
print(ds_glm)

```

Out []:
```output
<xarray.Dataset>
Dimensions:                                    (number_of_events: 1, number_of_groups: 1, number_of_flashes: 1, number_of_time_bounds: 2, number_of_wavelength_bounds: 2)
Coordinates:
    event_id                               (number_of_events) int16 1
    group_id                               (number_of_groups) int16 1
    flash_id                               (number_of_flashes) int16 1
  * number_of_time_bounds                (number_of_time_bounds) int8 0 1
  * number_of_wavelength_bounds          (number_of_wavelength_bounds) int8 0 1
Data variables: (12/45)
    event_time_offset                      (number_of_events) datetime64[ns] 2017-08-22T22:28:20.016000
    event_lat                              (number_of_events) float32 26.1
    event_lon                              (number_of_events) float32 -84.06
    event_energy                           (number_of_events) float32 1.081e-14
    event_parent_group_id                  (number_of_events) int16 1
    group_time_offset                      (number_of_groups) datetime64[ns] 2017-08-22T22:28:20.016000
    ...                                       ...
    percent_navigated_L1b_events           float32 100.0
    yaw_flip_flag                          int8 0
    processing_system_environment          |S1 b'O'
    production_site                        |S1 b'L'
    production_environment                 |S1 b'O'
    processing_system_version              |S1 b'0'
Attributes: (12/29)
    production_site:          LICC
    featureType:              point
    dataset_name:             OR_GLM-L2-LCFA_G16_s20172342228200_e20172342228...
    iso_series_metadata_id:   8c9e8170-3a54-11e8-b467-0800200c9a66
    title:                    GLM L2 Lightning Detection - Flashes, Groups, ...
    summary:                  The Lightning Detection product produces a hie...
    ...                       ...
    cdm_data_type:            Point
    time_coverage_start:      2017-08-22T22:28:20.0Z
    time_coverage_end:        2017-08-22T22:28:40.0Z
    timeline_id:              ABI Mode 3
    production_data_source:   Realtime
    id:                       6058e42e-83c1-433f-888e-3e48dcd83548
```

In []:
The dataset `ds_glm` is a point dataset with information on lightning events. The dataset contains multiple data variables, such as `event_time_offset`, `event_lat`, `event_lon` and `event_energy`. Let's select the data variable `event_lat` and look at its values.

In []:
```python
# Select the data variable 'event_lat'
lat = ds_glm['event_lat']

# Print the values of the data variable
print(lat.values)

```

Out []:

```output
[26.1013]

```

In []:
The dataset `ds_glm` also has a number of global attributes, such as `title` or `summary`. Let's retrieve the title of the dataset.

In []:
```python
# Retrieve the dataset's title
title = ds_glm.title

# Print the title
print(title)

```

Out []:
```output
GLM L2 Lightning Detection - Flashes, Groups, and Events
```

In []:
You can also select data with the `.sel()` or `.isel()` functions.
* `.sel()`: selects data based on coordinate labels or values
* `.isel()`: selects data based on integer indices

Let's use the file `P_ZRH_R_C_WMO_20171201000000_00_ECMWF_SFC_WIND-U_10_N_33.70_W_15.59_20171201000000_20171201000000_20171201000000_20171201000000_ZRH.nc` as an example.

In []:
```python
# Load the dataset
ds_wind = xr.open_dataset(f_list[2])

# Print the data structure
print(ds_wind)

```

Out []:
```output
<xarray.Dataset>
Dimensions:    (time: 1, latitude: 1, longitude: 1)
Coordinates:
  * time       (time) datetime64[ns] 2017-12-01
  * latitude   (latitude) float64 33.7
  * longitude  (longitude) float64 -15.59
Data variables:
    u10        (time, latitude, longitude) float32 ...
Attributes:
    Conventions:  CF-1.6
    history:      2019-07-15 09:27:35 GMT by grib_to_netcdf-2.10.0: /opt/ecmw...
```

In []:
The dataset `ds_wind` is a gridded dataset and contains the variable `u10` with three dimensions: `time`, `latitude` and `longitude`. Let's select a specific time step, latitude and longitude with the `.sel()` function.

In []:
```python
# Select a specific time step, latitude and longitude
specific_time_step = ds_wind.sel(time='2017-12-01', latitude=33.70, longitude=-15.59)

# Print the selected data
print(specific_time_step)

```

Out []:
```output
<xarray.Dataset>
Dimensions:    (time: 1, latitude: 1, longitude: 1)
Coordinates:
  * time       (time) datetime64[ns] 2017-12-01
  * latitude   (latitude) float64 33.7
  * longitude  (longitude) float64 -15.59
Data variables:
    u10        (time, latitude, longitude) float32 -1.835
Attributes:
    Conventions:  CF-1.6
    history:      2019-07-15 09:27:35 GMT by grib_to_netcdf-2.10.0: /opt/ecmw...
```

In []:
The same can be done with integer-based indexing with the `.isel()` function.

In []:
```python
# Select a specific time step, latitude and longitude with integer-based indexing
specific_time_step_isel = ds_wind.isel(time=0, latitude=0, longitude=0)

# Print the selected data
print(specific_time_step_isel)

```

Out []:
```output
<xarray.Dataset>
Dimensions:    ()
Coordinates:
    time       datetime64[ns] 2017-12-01
    latitude   float64 33.7
    longitude  float64 -15.59
Data variables:
    u10        float32 -1.835
Attributes:
    Conventions:  CF-1.6
    history:      2019-07-15 09:27:35 GMT by grib_to_netcdf-2.10.0: /opt/ecmw...
```

In []:
### 2.2. Computation

Xarray allows you to perform mathematical operations on xarray data structures. Operations are generally element-wise, just like with NumPy arrays. Let's compute the wind speed from the u and v wind components. First, we need to load the v wind component.

In []:
```python
# Create a list of the u and v wind component files
f_wind = glob.glob(data_dir + "/*ECMWF*.nc")

# Load the files into one xarray dataset
ds_wind_uv = xr.open_mfdataset(f_wind)

# Print the dataset structure
print(ds_wind_uv)

```

Out []:
```output
<xarray.Dataset>
Dimensions:    (time: 1, latitude: 1, longitude: 1)
Coordinates:
  * time       (time) datetime64[ns] 2017-12-01
  * latitude   (latitude) float64 33.7
  * longitude  (longitude) float64 -15.59
Data variables:
    u10        (time, latitude, longitude) float32 dask.array<chunksize=(1, 1, 1), meta=np.ndarray>
    v10        (time, latitude, longitude) float32 dask.array<chunksize=(1, 1, 1), meta=np.ndarray>
Attributes:
    Conventions:  CF-1.6
    history:      2019-07-15 09:27:35 GMT by grib_to_netcdf-2.10.0: /opt/ecmw...
```

In []:
Let's calculate the wind speed now with the formula: $ws = \sqrt{u10^2 + v10^2}$

In []:
```python
# Calculate wind speed
ws = np.sqrt(ds_wind_uv['u10']**2 + ds_wind_uv['v10']**2)

# Print wind speed
print(ws)

```

Out []:
```output
<xarray.DataArray (time: 1, latitude: 1, longitude: 1)>
dask.array<sqrt, shape=(1, 1, 1), dtype=float32, chunksize=(1, 1, 1), chunktype=numpy.ndarray>
Coordinates:
  * time       (time) datetime64[ns] 2017-12-01
  * latitude   (latitude) float64 33.7
  * longitude  (longitude) float64 -15.59
```

In []:
The result of the computation is a new `DataArray` object. Let's inspect its values.

In []:
```python
# Print the values of the wind speed
print(ws.values)

```

Out []:
```output
<output truncated>
```

In []:
### 2.3. Plotting

Xarray data structures have a built-in `plot()` method for convenience, similar to pandas. For more complex plots, you can use libraries such as [Matplotlib](https://matplotlib.org/), [Seaborn](https://seaborn.pydata.org/) or [HoloViz](https://holoviz.org/).

Let's make a simple plot of the wind speed DataArray `ws` from above.

In []:
```python
# Plot the wind speed
ws.plot()

```

Out []:
```output

```

In []:
<hr/>
